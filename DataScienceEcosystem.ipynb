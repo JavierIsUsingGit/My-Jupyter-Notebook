{
  "metadata": {
    "kernelspec": {
      "name": "python",
      "display_name": "Python (Pyodide)",
      "language": "python"
    },
    "language_info": {
      "codemirror_mode": {
        "name": "python",
        "version": 3
      },
      "file_extension": ".py",
      "mimetype": "text/x-python",
      "name": "python",
      "nbconvert_exporter": "python",
      "pygments_lexer": "ipython3",
      "version": "3.8"
    }
  },
  "nbformat_minor": 5,
  "nbformat": 4,
  "cells": [
    {
      "id": "806da8b9-0d16-4a75-b55d-3ffa24bfcb8e",
      "cell_type": "markdown",
      "source": "# Data Science Tools and Ecosystem",
      "metadata": {}
    },
    {
      "id": "b1719d02-7fe2-4411-8e45-01e3555af8dd",
      "cell_type": "markdown",
      "source": "In this notebook, Data Science Tools and Ecosystem are summarized.",
      "metadata": {}
    },
    {
      "id": "261a07ca-b3fc-45e1-8355-425185a86035",
      "cell_type": "markdown",
      "source": "__Objective__\n* List popular languages for Data Science\n* List popular libraries for Data Science\n* List of well known Data Science Tools\n* How to provide comments in the cell",
      "metadata": {}
    },
    {
      "id": "ba163323-080c-4e74-91f1-e44b74f44d28",
      "cell_type": "markdown",
      "source": "Some of the popular languages that Data Scientists use are:\n1. Python\n2. R\n3. SQL",
      "metadata": {}
    },
    {
      "id": "3b1fa5f5-b309-4ba0-8363-31ea184968fb",
      "cell_type": "markdown",
      "source": "Some of the commonly used libraries used by Data Scientists include:\n1. Tensorflow\n2. NumPy\n3. SciPy",
      "metadata": {}
    },
    {
      "id": "a0b801eb-6a9c-4b0f-bb9c-a5bc722ae257",
      "cell_type": "markdown",
      "source": "| Data Science Tools |\n|---|\n|SAS|\n|Apache Hadoop|\n|TensorFlow|",
      "metadata": {}
    },
    {
      "id": "1be0a843-eecd-4eb5-86fe-6b66e986be9d",
      "cell_type": "markdown",
      "source": "### Below are a few examples of evaluating arithmetic expressions in Python",
      "metadata": {}
    },
    {
      "id": "0109f055-2503-4c8e-b276-904ed61f8eff",
      "cell_type": "code",
      "source": "#this a simple arithmetic expression to mutiply then add integers\n(3*4)+5",
      "metadata": {
        "trusted": true
      },
      "outputs": [
        {
          "execution_count": 2,
          "output_type": "execute_result",
          "data": {
            "text/plain": "17"
          },
          "metadata": {}
        }
      ],
      "execution_count": 2
    },
    {
      "id": "77746c6e-350f-4a7b-a385-efbc9fe590ff",
      "cell_type": "code",
      "source": "#This will convert 200 minutes to hours by diving by 60\n200/60",
      "metadata": {
        "trusted": true
      },
      "outputs": [
        {
          "execution_count": 3,
          "output_type": "execute_result",
          "data": {
            "text/plain": "3.3333333333333335"
          },
          "metadata": {}
        }
      ],
      "execution_count": 3
    },
    {
      "id": "168ff1f3-eb47-4f79-af0e-719554149442",
      "cell_type": "markdown",
      "source": "## Author\nJavier Loy",
      "metadata": {}
    },
    {
      "id": "2c0bcb88-ce06-4799-b2ec-d8657db87cde",
      "cell_type": "code",
      "source": "",
      "metadata": {
        "trusted": true
      },
      "outputs": [],
      "execution_count": null
    }
  ]
}